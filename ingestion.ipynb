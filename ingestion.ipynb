{
 "cells": [
  {
   "cell_type": "code",
   "execution_count": 1,
   "metadata": {},
   "outputs": [],
   "source": [
    "from dotenv import load_dotenv\n",
    "from langchain.text_splitter import RecursiveCharacterTextSplitter\n",
    "from langchain_community.document_loaders import PyPDFLoader\n",
    "from langchain_community.vectorstores import Chroma \n",
    "from langchain_openai import OpenAIEmbeddings\n",
    "from pathlib import Path\n",
    "from chromadb.utils import embedding_functions\n",
    "from langchain import hub\n",
    "from langchain_chroma import Chroma\n",
    "from langchain_core.output_parsers import StrOutputParser\n",
    "from langchain_core.runnables import RunnablePassthrough\n",
    "from langchain_community.embeddings import SentenceTransformerEmbeddings"
   ]
  },
  {
   "cell_type": "code",
   "execution_count": 15,
   "metadata": {},
   "outputs": [],
   "source": [
    "load_dotenv()\n",
    "knowledge_base_paths = Path(\"KnowledgeBase\")\n",
    "files_path = [f for f in knowledge_base_paths.iterdir() if f.is_file()]\n",
    "\n",
    "docs = [PyPDFLoader(path).load() for path in files_path]\n",
    "docs_list = [item for sublist in docs for item in sublist]\n",
    "splitter = RecursiveCharacterTextSplitter(chunk_size=1024, chunk_overlap=100)\n",
    "chunks = splitter.split_documents(docs_list)\n",
    "\n"
   ]
  },
  {
   "cell_type": "code",
   "execution_count": 16,
   "metadata": {},
   "outputs": [
    {
     "data": {
      "text/plain": [
       "428"
      ]
     },
     "execution_count": 16,
     "metadata": {},
     "output_type": "execute_result"
    }
   ],
   "source": [
    "len(chunks)"
   ]
  },
  {
   "cell_type": "code",
   "execution_count": 17,
   "metadata": {},
   "outputs": [
    {
     "data": {
      "text/plain": [
       "Document(metadata={'source': 'KnowledgeBase/asrin-getirdigi-tereddutler-1-M-F-Gulen.pdf', 'page': 10}, page_content='“Kur’ân, olmuş ve olacak her şeyden bahsediyor.” \\ndiyorlar. Bu doğru mudur? Doğru ise, günümüzdeki \\nbir kısım fen ve tekniğe ait meseleleri de bunun içinde \\nmütalâa edebilir miyiz?\\nYüce Yaratıcı’nın, insanoğlunun öğrenmesine müsaade ettiği ve onun maddî-\\nmânevî terakkisine vesile kıldığı her şeyden icmâlen bahsetmesi doğrudur.\\nAncak, Allah’ın (celle celâluhu) müsaade etmediği ve insanoğlunun da dünya\\nve ahiret hayatına bir faydası dokunmayan şeylerden söz etmesi, hele tafsilde\\nbulunması asla bahis mevzuu değildir. Zira, böyle bir şeyi kabullenmek, hikmet\\ndolu bir kitaba abes isnat etmek olur ki, o mukaddes beyan bu türlü faydasızlık\\nve abesiyetten çok muallâdır!...\\nKur’ân’ın ele alıp tahlile tâbi tuttuğu şeylerde, takip ettiği bir yol vardır ki, o\\nyol bilinmediği zaman, tahlilci çok defa hayal kırıklığına uğrayabilir; yani,\\naradığını onda bulamayabilir.\\nBir kere, Kur’ân’ın en birinci hedefi, bu kâinat meşherindeki kelime, satır,\\nparagraf ve kitaplarla, Meşher Sahibini tanıttırmak, iman ve ibadet yolunu')"
      ]
     },
     "execution_count": 17,
     "metadata": {},
     "output_type": "execute_result"
    }
   ],
   "source": [
    "chunks[20]"
   ]
  },
  {
   "cell_type": "code",
   "execution_count": 14,
   "metadata": {},
   "outputs": [],
   "source": [
    "embedding_function = OpenAIEmbeddings(model=\"text-embedding-3-large\")"
   ]
  },
  {
   "cell_type": "code",
   "execution_count": 5,
   "metadata": {},
   "outputs": [],
   "source": [
    "res = embedding_function.embed_query(\"Hallo\")"
   ]
  },
  {
   "cell_type": "code",
   "execution_count": 7,
   "metadata": {},
   "outputs": [
    {
     "data": {
      "text/plain": [
       "3072"
      ]
     },
     "execution_count": 7,
     "metadata": {},
     "output_type": "execute_result"
    }
   ],
   "source": [
    "len(res)"
   ]
  },
  {
   "cell_type": "code",
   "execution_count": 18,
   "metadata": {},
   "outputs": [],
   "source": [
    "vectorstore = Chroma.from_documents(\n",
    "documents=chunks, \n",
    "embedding=embedding_function,\n",
    "collection_name=\"asrin-getirdigi-tereddutler\", persist_directory=\"./.chromadb\",\n",
    "collection_metadata={\"embeeding_model\":\"text-embedding-3-large\",\n",
    "\"chunk_size\":1024,\n",
    "\"chunk_overlap\":100})\n",
    "\n"
   ]
  },
  {
   "cell_type": "code",
   "execution_count": 19,
   "metadata": {},
   "outputs": [
    {
     "data": {
      "text/plain": [
       "428"
      ]
     },
     "execution_count": 19,
     "metadata": {},
     "output_type": "execute_result"
    }
   ],
   "source": [
    "vectorstore._collection.count()"
   ]
  },
  {
   "cell_type": "code",
   "execution_count": 20,
   "metadata": {},
   "outputs": [
    {
     "data": {
      "text/plain": [
       "3072"
      ]
     },
     "execution_count": 20,
     "metadata": {},
     "output_type": "execute_result"
    }
   ],
   "source": [
    "len(vectorstore._collection.peek(1)['embeddings'][0])"
   ]
  },
  {
   "cell_type": "code",
   "execution_count": 22,
   "metadata": {},
   "outputs": [],
   "source": [
    "vectorstore = Chroma( \n",
    "embedding_function=embedding_function,\n",
    "collection_name=\"asrin-getirdigi-tereddutler\", \n",
    "persist_directory=\"./.chromadb\",\n",
    "collection_metadata={\"embeeding_model\":\"text-embedding-3-large\",\n",
    "\"chunk_size\":1024,\n",
    "\"chunk_overlap\":100})\n"
   ]
  },
  {
   "cell_type": "code",
   "execution_count": 44,
   "metadata": {},
   "outputs": [],
   "source": [
    "Allah her şeyi yarattı, -hâşâ- O’nu kim yarattı?query = \"\"\n",
    "query2 =\"Nürnbergde hava nasil?\""
   ]
  },
  {
   "cell_type": "code",
   "execution_count": 45,
   "metadata": {},
   "outputs": [
    {
     "name": "stdout",
     "output_type": "stream",
     "text": [
      "* [SIM=1.530767] de istifham ortaya çıkacaktır. Meselâ, yağmur, buluta bağlı; bulut, zâit-nâkıs\n",
      "(artı-eksi) habbeciklere, onlar buharlaşma hâdisesine, o da suların\n",
      "mevcudiyetine ve nihayet o da suyu meydana getiren unsurlara... Böylece\n",
      "sebepler zinciri, belki birkaç adım daha ilerleyerek devam eder durur; ama\n",
      "durduğu yerde yine “Şöyle de olabilir, böyle de” diyerek insan kendini\n",
      "faraziyelerin kucağında hisseder ve onlarla tatmin olmaya çalışır. Bu ise,\n",
      "fevkalâde bir nizam; bir âhenk ve birbiriyle münasebet içinde, bir hikmet eliyle\n",
      "meydana geldiği sezilen bütün eşyayı çocuk hezeyanlarıyla izah etmeye\n",
      "yeltenmekten başka, bir de ilimlerin ufkunu ve hedefini karartmak demektir.\n",
      "Oysaki, her netice için mutlaka mâkul bir sebebe ihtiyaç vardır. Gayr-i mâkul\n",
      "ve gayr-i mantıkî sebeplerin uzayıp gitmesi, uzayıp gitmenin kerameti olarak [{'page': 28, 'source': 'KnowledgeBase/asrin-getirdigi-tereddutler-1-M-F-Gulen.pdf'}]\n",
      "* [SIM=1.538648] bunun altında, üstünde hava bulunmadığı sözünü\n",
      "1\n",
      ", geleceğin fizikçilerine tetkik\n",
      "mevzuu olarak arz edip geçelim...\n",
      "Amûdî:\n",
      " Dikey.\n",
      "Ceffelkalem:\n",
      " Düşünüp taşınmadan, bir çırpıda.\n",
      "Gayr-ı meşhud:\n",
      " Görülmeyen, müşâhede edilemeyen.\n",
      "Gayr-i meş’ur:\n",
      " Duyulmayan, hissedilmeyen.\n",
      "Hamûle:\n",
      " Yük.\n",
      "Meşhud:\n",
      " Görünen, müşâhede edilen.\n",
      "Nâfiz:\n",
      " Tesirli, nüfuz eden.\n",
      "Seyyal:\n",
      " Akıcı, akışkan.\n",
      "Şerare:\n",
      " Kıvılcım.\n",
      "Şua:\n",
      " Işın, ışık parçası.\n",
      "1\n",
      " \n",
      "Tirmizî, \n",
      "tefsîru’l-Kur’ân\n",
      " 12; İbn Kuteybe, \n",
      "Te’vîlu muhtelifi’l-hadîs\n",
      " s.221. [{'page': 147, 'source': 'KnowledgeBase/asrin-getirdigi-tereddutler-1-M-F-Gulen.pdf'}]\n",
      "* [SIM=1.544192] lütufkârdır ki; her mü’minin kalbinde “kenzen” bilinir ve O’nun duygularının\n",
      "itminanına vesile olur!..\n",
      "Her şeyin doğrusunu O bilir.\n",
      "Basar:\n",
      " Görme, görme duyusu.\n",
      "Basiret:\n",
      " Kalb gözü. Eşyanın hakikatini görme, anlama gücü.\n",
      "Faraziye:\n",
      " Varsayım, hipotez.\n",
      "İhata:\n",
      " Kavrama, içine alma, kuşatma.\n",
      "Kevn ü mekân:\n",
      " Varlık, kâinat.\n",
      "Muhât:\n",
      " Kavranan, ihata edilen.\n",
      "Münevviru’n-nur:\n",
      " Bütün nurların “Nur”u, bütün ışıkların, nurların Yaratıcısı Hz. Allah.\n",
      "Nefs-i emmare:\n",
      " Daima kötüye sevk eden, sürekli günah arzusunda olan nefis.\n",
      "Nefs-i levvame:\n",
      " İşlediği hata ve günahlardan dolayı vicdan azabı duyan, kendini kınayan nefis.\n",
      "Nefs-i mutmainne:\n",
      " Mahiyetindeki \n",
      "kötü duygu ve düşüncelerden temizlenmiş; güzel ahlâk ile tam\n",
      "donanmış olarak Cenâb-ı Hakk’ın \n",
      "yakınlığına ermiş, \n",
      "mânevî huzur ve istikrar kazanmış nefis.\n",
      "Nidd:\n",
      " Eş, benzer.\n",
      "Tenfiz:\n",
      " Hükmünü yerine getirme, infaz etme.\n",
      "1\n",
      " \n",
      "İbn Hibbân, \n",
      "es-Sahîh\n",
      " 2/77; Abdullah İbn Ahmed İbn Hanbel, \n",
      "es-Sünne\n",
      " 1/247, 304.\n",
      "2\n",
      " \n",
      "En’âm sûresi, 6/103.\n",
      "3\n",
      " \n",
      "Müslim, \n",
      "iman\n",
      " 291.\n",
      "4\n",
      " \n",
      "Müslim, \n",
      "iman [{'page': 26, 'source': 'KnowledgeBase/asrin-getirdigi-tereddutler-1-M-F-Gulen.pdf'}]\n"
     ]
    }
   ],
   "source": [
    "results = vectorstore.similarity_search_with_score(\n",
    "    query2, k=3\n",
    ")\n",
    "for res, score in results:\n",
    "    print(f\"* [SIM={score:3f}] {res.page_content} [{res.metadata}]\")\n"
   ]
  },
  {
   "cell_type": "code",
   "execution_count": 84,
   "metadata": {},
   "outputs": [],
   "source": [
    "import chromadb\n",
    "\n",
    "client = chromadb.PersistentClient(path=\".chromadb\")\n"
   ]
  },
  {
   "cell_type": "code",
   "execution_count": 88,
   "metadata": {},
   "outputs": [],
   "source": [
    "messages_collection = client.get_or_create_collection(\"chat_messages\")    "
   ]
  },
  {
   "cell_type": "code",
   "execution_count": 87,
   "metadata": {},
   "outputs": [
    {
     "data": {
      "text/plain": [
       "[Collection(name=asrin-getirdigi-tereddutler), Collection(name=chat_messages)]"
      ]
     },
     "execution_count": 87,
     "metadata": {},
     "output_type": "execute_result"
    }
   ],
   "source": [
    "client.list_collections()"
   ]
  },
  {
   "cell_type": "code",
   "execution_count": 98,
   "metadata": {},
   "outputs": [],
   "source": [
    "col = [{\"input\": \"chat_messages\", \"output\": \"chat_messages\"}]"
   ]
  },
  {
   "cell_type": "code",
   "execution_count": 97,
   "metadata": {},
   "outputs": [
    {
     "data": {
      "text/plain": [
       "{'ids': ['1'],\n",
       " 'embeddings': None,\n",
       " 'documents': ['test'],\n",
       " 'uris': None,\n",
       " 'data': None,\n",
       " 'metadatas': [None],\n",
       " 'included': [<IncludeEnum.documents: 'documents'>,\n",
       "  <IncludeEnum.metadatas: 'metadatas'>]}"
      ]
     },
     "execution_count": 97,
     "metadata": {},
     "output_type": "execute_result"
    }
   ],
   "source": [
    "messages_collection.get(\"1\")"
   ]
  }
 ],
 "metadata": {
  "kernelspec": {
   "display_name": "venv",
   "language": "python",
   "name": "python3"
  },
  "language_info": {
   "codemirror_mode": {
    "name": "ipython",
    "version": 3
   },
   "file_extension": ".py",
   "mimetype": "text/x-python",
   "name": "python",
   "nbconvert_exporter": "python",
   "pygments_lexer": "ipython3",
   "version": "3.12.7"
  }
 },
 "nbformat": 4,
 "nbformat_minor": 2
}
